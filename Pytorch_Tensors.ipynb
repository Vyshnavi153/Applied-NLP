{
  "cells": [
    {
      "cell_type": "markdown",
      "metadata": {
        "id": "view-in-github",
        "colab_type": "text"
      },
      "source": [
        "<a href=\"https://colab.research.google.com/github/Vyshnavi153/Applied-NLP/blob/main/Pytorch_Tensors.ipynb\" target=\"_parent\"><img src=\"https://colab.research.google.com/assets/colab-badge.svg\" alt=\"Open In Colab\"/></a>"
      ]
    },
    {
      "cell_type": "markdown",
      "id": "Q4vVUgxxDJD0",
      "metadata": {
        "id": "Q4vVUgxxDJD0"
      },
      "source": [
        "# <font color = dodgerred>**HW1 - 15 Points** </font>\n",
        "- **You have to submit two files for this part of the HW**\n",
        "  >(1) ipynb (colab notebook) and<br>\n",
        "  >(2) pdf file (pdf version of the colab file).**\n",
        "- **Files should be named as follows**:\n",
        ">FirstName_LastName_HW_1**\n"
      ]
    },
    {
      "cell_type": "code",
      "execution_count": 1,
      "id": "IsWkg1CufBwg",
      "metadata": {
        "id": "IsWkg1CufBwg"
      },
      "outputs": [],
      "source": [
        "import torch\n",
        "import time"
      ]
    },
    {
      "cell_type": "markdown",
      "id": "2Voz6l5RUZRh",
      "metadata": {
        "id": "2Voz6l5RUZRh"
      },
      "source": [
        "# <font color = dodgerred>**Q1 : Create Tensor (1/2 Point)**\n",
        " Create a torch Tensor of shape (5, 3) which is filled with zeros. Modify the tensor to set element (0, 2) to 10 and element (2, 0)  to 100."
      ]
    },
    {
      "cell_type": "markdown",
      "source": [
        "# New Section"
      ],
      "metadata": {
        "id": "_ghjR2AIHqkO"
      },
      "id": "_ghjR2AIHqkO"
    },
    {
      "cell_type": "code",
      "execution_count": 7,
      "id": "bI9MwTaamhis",
      "metadata": {
        "id": "bI9MwTaamhis",
        "colab": {
          "base_uri": "https://localhost:8080/"
        },
        "outputId": "29026b8a-fd94-4267-a82c-0679050601c0"
      },
      "outputs": [
        {
          "output_type": "stream",
          "name": "stdout",
          "text": [
            "tensor([[0., 0., 0.],\n",
            "        [0., 0., 0.],\n",
            "        [0., 0., 0.],\n",
            "        [0., 0., 0.],\n",
            "        [0., 0., 0.]])\n"
          ]
        }
      ],
      "source": [
        "my_tensor = torch.zeros((5,3,))\n",
        "print(my_tensor)"
      ]
    },
    {
      "cell_type": "code",
      "execution_count": 8,
      "id": "7QEV2uq-yqZK",
      "metadata": {
        "colab": {
          "base_uri": "https://localhost:8080/"
        },
        "id": "7QEV2uq-yqZK",
        "outputId": "b0345584-9473-4859-9314-7b49ac2ae7ba"
      },
      "outputs": [
        {
          "output_type": "execute_result",
          "data": {
            "text/plain": [
              "torch.Size([5, 3])"
            ]
          },
          "metadata": {},
          "execution_count": 8
        }
      ],
      "source": [
        "my_tensor.shape"
      ]
    },
    {
      "cell_type": "code",
      "execution_count": 9,
      "id": "yAxzhRVGyr6c",
      "metadata": {
        "colab": {
          "base_uri": "https://localhost:8080/"
        },
        "id": "yAxzhRVGyr6c",
        "outputId": "2b289226-a74b-4559-ff8c-16e21c639c02"
      },
      "outputs": [
        {
          "output_type": "execute_result",
          "data": {
            "text/plain": [
              "tensor([[0., 0., 0.],\n",
              "        [0., 0., 0.],\n",
              "        [0., 0., 0.],\n",
              "        [0., 0., 0.],\n",
              "        [0., 0., 0.]])"
            ]
          },
          "metadata": {},
          "execution_count": 9
        }
      ],
      "source": [
        "my_tensor"
      ]
    },
    {
      "cell_type": "code",
      "execution_count": 10,
      "id": "FCM4GuyWylQV",
      "metadata": {
        "id": "FCM4GuyWylQV",
        "colab": {
          "base_uri": "https://localhost:8080/"
        },
        "outputId": "7d584604-4f5f-4a87-e489-08a461ad59f0"
      },
      "outputs": [
        {
          "output_type": "execute_result",
          "data": {
            "text/plain": [
              "tensor([[  0.,   0.,  10.],\n",
              "        [  0.,   0.,   0.],\n",
              "        [100.,   0.,   0.],\n",
              "        [  0.,   0.,   0.],\n",
              "        [  0.,   0.,   0.]])"
            ]
          },
          "metadata": {},
          "execution_count": 10
        }
      ],
      "source": [
        "# Manually set the value at the first row and third column to 10,\n",
        "# and the value at the third row and first column to 100 in the tensor named \"my_tensor\".\n",
        "my_tensor[0,2] = 10\n",
        "my_tensor[2,0] = 100\n",
        "my_tensor"
      ]
    },
    {
      "cell_type": "code",
      "execution_count": 11,
      "id": "ZdEftwuPyyx9",
      "metadata": {
        "colab": {
          "base_uri": "https://localhost:8080/"
        },
        "id": "ZdEftwuPyyx9",
        "outputId": "e19d9422-70c0-475b-c07d-4cf11db79ece"
      },
      "outputs": [
        {
          "output_type": "execute_result",
          "data": {
            "text/plain": [
              "tensor([[  0.,   0.,  10.],\n",
              "        [  0.,   0.,   0.],\n",
              "        [100.,   0.,   0.],\n",
              "        [  0.,   0.,   0.],\n",
              "        [  0.,   0.,   0.]])"
            ]
          },
          "metadata": {},
          "execution_count": 11
        }
      ],
      "source": [
        "my_tensor"
      ]
    },
    {
      "cell_type": "markdown",
      "id": "6Eoa6rF80ZTa",
      "metadata": {
        "id": "6Eoa6rF80ZTa"
      },
      "source": [
        "# <font color = dodgerred>**Q2: Reshape tensor (1/2 Point)**\n",
        "You have following tensor as input:\n",
        "\n",
        "```x=torch.tensor([0, 1, 2, 3, 4, 5, 6, 7, 8, 9, 10, 11, 12, 13, 14, 15, 16, 17, 18, 19, 20, 21, 22, 23])```\n",
        "\n",
        "Using only reshaping functions (like view, reshape, transpose, permute), you need to get at the following tensor as output:\n",
        "\n",
        "```\n",
        "tensor([[ 0,  4,  8, 12, 16, 20],\n",
        "        [ 1,  5,  9, 13, 17, 21],\n",
        "        [ 2,  6, 10, 14, 18, 22],\n",
        "        [ 3,  7, 11, 15, 19, 23]])\n",
        "```\n",
        "\n"
      ]
    },
    {
      "cell_type": "code",
      "execution_count": 2,
      "id": "LDBQ6kYZ-JRV",
      "metadata": {
        "id": "LDBQ6kYZ-JRV"
      },
      "outputs": [],
      "source": [
        "x=torch.tensor([0, 1, 2, 3, 4, 5, 6, 7, 8, 9, 10, 11, 12, 13, 14, 15, 16, 17, 18, 19, 20, 21, 22, 23])"
      ]
    },
    {
      "cell_type": "code",
      "execution_count": 3,
      "id": "b6_SdFS-ke_x",
      "metadata": {
        "colab": {
          "base_uri": "https://localhost:8080/"
        },
        "id": "b6_SdFS-ke_x",
        "outputId": "3f467dd7-9f86-4a02-a642-e1f2099df9b1"
      },
      "outputs": [
        {
          "output_type": "execute_result",
          "data": {
            "text/plain": [
              "tensor([[ 0,  4,  8, 12, 16, 20],\n",
              "        [ 1,  5,  9, 13, 17, 21],\n",
              "        [ 2,  6, 10, 14, 18, 22],\n",
              "        [ 3,  7, 11, 15, 19, 23]])"
            ]
          },
          "metadata": {},
          "execution_count": 3
        }
      ],
      "source": [
        "x = x.view(6,4).T\n",
        "x"
      ]
    },
    {
      "cell_type": "markdown",
      "id": "dnw5qi7A4ysc",
      "metadata": {
        "id": "dnw5qi7A4ysc"
      },
      "source": [
        "# <font color = dodgerred>**Q3: Slice tensor (1Point)**\n",
        "\n",
        "- Slice the tensor x to get the following\n",
        ">- last row of x\n",
        ">- fourth column of x\n",
        ">- first three rows and first two columns - the shape of subtensor should be (3,2)\n",
        ">- odd valued rows and columns"
      ]
    },
    {
      "cell_type": "code",
      "execution_count": 4,
      "id": "STbUdF0J5IBD",
      "metadata": {
        "colab": {
          "base_uri": "https://localhost:8080/"
        },
        "id": "STbUdF0J5IBD",
        "outputId": "0d7e72bb-9eb4-416e-d089-897f7ecfd849"
      },
      "outputs": [
        {
          "output_type": "execute_result",
          "data": {
            "text/plain": [
              "tensor([[ 1,  2,  3,  4,  5],\n",
              "        [ 6,  7,  8,  8, 10],\n",
              "        [11, 12, 13, 14, 15]])"
            ]
          },
          "metadata": {},
          "execution_count": 4
        }
      ],
      "source": [
        "x = torch.tensor([[1, 2, 3, 4, 5], [6, 7, 8, 8, 10], [11, 12, 13, 14, 15]])\n",
        "x"
      ]
    },
    {
      "cell_type": "code",
      "execution_count": 5,
      "id": "mgHPm0qP5ZU3",
      "metadata": {
        "colab": {
          "base_uri": "https://localhost:8080/"
        },
        "id": "mgHPm0qP5ZU3",
        "outputId": "0ea06568-ccf2-4f1c-9866-2d03cc3dfeda"
      },
      "outputs": [
        {
          "output_type": "execute_result",
          "data": {
            "text/plain": [
              "torch.Size([3, 5])"
            ]
          },
          "metadata": {},
          "execution_count": 5
        }
      ],
      "source": [
        "x.shape"
      ]
    },
    {
      "cell_type": "code",
      "execution_count": 6,
      "id": "hzQRs79A5JGd",
      "metadata": {
        "colab": {
          "base_uri": "https://localhost:8080/"
        },
        "id": "hzQRs79A5JGd",
        "outputId": "30a75232-43ba-41f7-a24c-2350ec8a906a"
      },
      "outputs": [
        {
          "output_type": "execute_result",
          "data": {
            "text/plain": [
              "tensor([11, 12, 13, 14, 15])"
            ]
          },
          "metadata": {},
          "execution_count": 6
        }
      ],
      "source": [
        "# Student Task: Retrieve the last row of the tensor 'x'\n",
        "# Hint: Negative indexing can help you select rows or columns counting from the end of the tensor.\n",
        "# Think about how you can select all columns for the desired row.\n",
        "last_row = x[2]\n",
        "last_row"
      ]
    },
    {
      "cell_type": "code",
      "execution_count": 12,
      "id": "-mb_Et866ZEW",
      "metadata": {
        "colab": {
          "base_uri": "https://localhost:8080/"
        },
        "id": "-mb_Et866ZEW",
        "outputId": "70d3756f-9f17-45f8-e377-fdd3403c3776"
      },
      "outputs": [
        {
          "output_type": "execute_result",
          "data": {
            "text/plain": [
              "tensor([ 4,  8, 14])"
            ]
          },
          "metadata": {},
          "execution_count": 12
        }
      ],
      "source": [
        "# Student Task: Retrieve the fourth column of the tensor 'x'\n",
        "# Hint: Pay attention to the indexing for both rows and columns.\n",
        "# Remember that indexing in Python starts from zero.\n",
        "fourth_column = x[:,3]\n",
        "fourth_column"
      ]
    },
    {
      "cell_type": "code",
      "execution_count": 13,
      "id": "c2VaG6Y16jsA",
      "metadata": {
        "colab": {
          "base_uri": "https://localhost:8080/"
        },
        "id": "c2VaG6Y16jsA",
        "outputId": "767c3ff8-d318-4894-e4a0-9390933f3d54"
      },
      "outputs": [
        {
          "output_type": "execute_result",
          "data": {
            "text/plain": [
              "tensor([[ 1,  2],\n",
              "        [ 6,  7],\n",
              "        [11, 12]])"
            ]
          },
          "metadata": {},
          "execution_count": 13
        }
      ],
      "source": [
        "# Student Task: Retrieve the first 3 rows and first 2 columns from the tensor 'x'.\n",
        "# Hint: Use slicing to extract the required subset of rows and columns.\n",
        "first_3_rows_2_columns = x[:3,:2]\n",
        "first_3_rows_2_columns"
      ]
    },
    {
      "cell_type": "code",
      "execution_count": 14,
      "id": "RHnSUpxs7O82",
      "metadata": {
        "colab": {
          "base_uri": "https://localhost:8080/"
        },
        "id": "RHnSUpxs7O82",
        "outputId": "7d446f84-4913-42fc-a9fa-64837f8ae43f"
      },
      "outputs": [
        {
          "output_type": "execute_result",
          "data": {
            "text/plain": [
              "tensor([[ 1,  3,  5],\n",
              "        [11, 13, 15]])"
            ]
          },
          "metadata": {},
          "execution_count": 14
        }
      ],
      "source": [
        "# Student Task: Retrieve the rows and columns with odd-indexed positions from the tensor 'x'.\n",
        "# Hint: Use stride slicing to extract the required subset of rows and columns with odd indices.\n",
        "odd_valued_rows_columns = x[0::2,0::2]\n",
        "odd_valued_rows_columns"
      ]
    },
    {
      "cell_type": "markdown",
      "id": "uSj20OEuf6bf",
      "metadata": {
        "id": "uSj20OEuf6bf"
      },
      "source": [
        "#  <font color = dodgerred>**Q4 -Normalize Function (1/2 Points)**<font>\n",
        "\n",
        "Write the function that normalizes the columns of a matrix. You have to compute the mean and standard deviation of each column. Then for each element of the column, you subtract the mean and divide by the standard deviation."
      ]
    },
    {
      "cell_type": "code",
      "execution_count": 15,
      "id": "8L9JBFNilkWt",
      "metadata": {
        "id": "8L9JBFNilkWt"
      },
      "outputs": [],
      "source": [
        "# Given Data\n",
        "x = [[ 3,  60,  100, -100],\n",
        "     [ 2,  20,  600, -600],\n",
        "     [-5,  50,  900, -900]]"
      ]
    },
    {
      "cell_type": "code",
      "execution_count": 16,
      "id": "iRrhopVBl-0q",
      "metadata": {
        "id": "iRrhopVBl-0q"
      },
      "outputs": [],
      "source": [
        "# Convert to PyTorch Tensor and set to float\n",
        "X = torch.tensor(x)\n",
        "X= X.float()"
      ]
    },
    {
      "cell_type": "code",
      "execution_count": 17,
      "id": "S2MaocHxmEQJ",
      "metadata": {
        "colab": {
          "base_uri": "https://localhost:8080/"
        },
        "id": "S2MaocHxmEQJ",
        "outputId": "a02c8dba-66d7-4fa7-a81a-2d8883bfaddf"
      },
      "outputs": [
        {
          "output_type": "stream",
          "name": "stdout",
          "text": [
            "torch.Size([3, 4])\n",
            "torch.float32\n"
          ]
        }
      ],
      "source": [
        "# Print shape and data type for verification\n",
        "print(X.shape)\n",
        "print(X.dtype)"
      ]
    },
    {
      "cell_type": "code",
      "execution_count": 18,
      "id": "rPgb1L9RmQAU",
      "metadata": {
        "colab": {
          "base_uri": "https://localhost:8080/"
        },
        "id": "rPgb1L9RmQAU",
        "outputId": "20cd863c-65bf-4f39-c52a-2e2f56df0045"
      },
      "outputs": [
        {
          "output_type": "execute_result",
          "data": {
            "text/plain": [
              "tensor([  4.3589,  20.8167, 404.1452, 404.1452])"
            ]
          },
          "metadata": {},
          "execution_count": 18
        }
      ],
      "source": [
        "# Compute and display the mean and standard deviation of each column for reference\n",
        "X.mean(axis = 0)\n",
        "X.std(axis = 0)"
      ]
    },
    {
      "cell_type": "code",
      "execution_count": 19,
      "id": "qnM87Db1mqFH",
      "metadata": {
        "colab": {
          "base_uri": "https://localhost:8080/"
        },
        "id": "qnM87Db1mqFH",
        "outputId": "67405a04-9e7b-4e3f-8484-3e4c6d0cd02f"
      },
      "outputs": [
        {
          "output_type": "execute_result",
          "data": {
            "text/plain": [
              "tensor([  4.3589,  20.8167, 404.1452, 404.1452])"
            ]
          },
          "metadata": {},
          "execution_count": 19
        }
      ],
      "source": [
        "X.std(axis = 0)"
      ]
    },
    {
      "cell_type": "markdown",
      "source": [
        "- Your task starts here\n",
        "- Your normalize_matrix function should take a PyTorch tensor x as input.\n",
        "- It should return a tensor where the columns are normalized.\n",
        "- After implementing your function, use the code provided to verify if the mean for each column in Z is close to zero and the standard deviation is 1."
      ],
      "metadata": {
        "id": "Yy2hehDnJHOq"
      },
      "id": "Yy2hehDnJHOq"
    },
    {
      "cell_type": "code",
      "execution_count": 20,
      "id": "mwq8qnqFlu9V",
      "metadata": {
        "id": "mwq8qnqFlu9V"
      },
      "outputs": [],
      "source": [
        "def normalize_matrix(x):\n",
        "  # Calculate the mean along each column (think carefully , you will take mean along axis = 0 or 1)\n",
        "  x = x.float()\n",
        "  mean = x.mean(axis = 0)\n",
        "\n",
        "  # Calculate the standard deviation along each column\n",
        "  std = x.std(axis = 0)\n",
        "\n",
        "  # Normalize each element in the columns by subtracting the mean and dividing by the standard deviation\n",
        "  y = (x - mean)/std\n",
        "\n",
        "  return y  # Return the normalized matrix\n",
        "\n"
      ]
    },
    {
      "cell_type": "code",
      "execution_count": 21,
      "id": "m027Qcgwm9OL",
      "metadata": {
        "colab": {
          "base_uri": "https://localhost:8080/"
        },
        "id": "m027Qcgwm9OL",
        "outputId": "75d46d94-98e1-4a79-8388-6de52c8f69e3"
      },
      "outputs": [
        {
          "output_type": "execute_result",
          "data": {
            "text/plain": [
              "tensor([[ 0.6882,  0.8006, -1.0722,  1.0722],\n",
              "        [ 0.4588, -1.1209,  0.1650, -0.1650],\n",
              "        [-1.1471,  0.3203,  0.9073, -0.9073]])"
            ]
          },
          "metadata": {},
          "execution_count": 21
        }
      ],
      "source": [
        "Z = normalize_matrix(X)\n",
        "Z"
      ]
    },
    {
      "cell_type": "code",
      "execution_count": 22,
      "id": "78-0D3KfnHel",
      "metadata": {
        "colab": {
          "base_uri": "https://localhost:8080/"
        },
        "id": "78-0D3KfnHel",
        "outputId": "e251fb36-8d76-48f7-dec3-b471b76e299c"
      },
      "outputs": [
        {
          "output_type": "execute_result",
          "data": {
            "text/plain": [
              "tensor([ 0.0000e+00,  4.9671e-08,  3.9736e-08, -3.9736e-08])"
            ]
          },
          "metadata": {},
          "execution_count": 22
        }
      ],
      "source": [
        "Z.mean(axis = 0)"
      ]
    },
    {
      "cell_type": "code",
      "source": [
        "Z.std(axis = 0)"
      ],
      "metadata": {
        "colab": {
          "base_uri": "https://localhost:8080/"
        },
        "id": "k_TAdAYQekmt",
        "outputId": "0bbb61d3-b38d-4622-a084-596f3034451c"
      },
      "id": "k_TAdAYQekmt",
      "execution_count": 23,
      "outputs": [
        {
          "output_type": "execute_result",
          "data": {
            "text/plain": [
              "tensor([1., 1., 1., 1.])"
            ]
          },
          "metadata": {},
          "execution_count": 23
        }
      ]
    },
    {
      "cell_type": "markdown",
      "metadata": {
        "id": "cc32848b"
      },
      "source": [
        "# <font color = 'dodgerred'>**Q5: In-place vs. Out-of-place Operations (1 Point)**\n",
        "\n",
        "1. Create a tensor `A` with values `[1, 2, 3]`.\n",
        "2. Perform an in-place addition (use `add_` method) of `5` to tensor `A`.\n",
        "3. Then, create another tensor `B` with values `[4, 5, 6]` and perform an out-of-place addition of `5`.\n",
        "\n",
        "**Print the memory addresses of `A` and `B` before and after the operations to demonstrate the difference in memory usage. Provide explanation**\n"
      ],
      "id": "cc32848b"
    },
    {
      "cell_type": "code",
      "execution_count": 24,
      "metadata": {
        "id": "19b3aaa5",
        "colab": {
          "base_uri": "https://localhost:8080/"
        },
        "outputId": "d896cd0c-07f0-4df5-9a99-b10e61a2337d"
      },
      "outputs": [
        {
          "output_type": "stream",
          "name": "stdout",
          "text": [
            "Original memory address of A: 134064641944336\n",
            "Memory address of A after in-place addition: 134064641944336\n",
            "A after in-place addition: tensor([6, 7, 8])\n",
            "Original memory address of B: 134064624641232\n",
            "Memory address of B after out-of-place addition: 134064624578976\n",
            "B after out-of-place addition: tensor([ 9, 10, 11])\n"
          ]
        }
      ],
      "source": [
        "A = torch.tensor([1, 2, 3])\n",
        "print('Original memory address of A:', id(A))\n",
        "A.add_(5)\n",
        "print('Memory address of A after in-place addition:', id(A))\n",
        "print('A after in-place addition:', A)\n",
        "\n",
        "B = torch.tensor([4, 5, 6])\n",
        "print('Original memory address of B:', id(B))\n",
        "B = B.add(5)\n",
        "print('Memory address of B after out-of-place addition:', id(B))\n",
        "print('B after out-of-place addition:', B)\n"
      ],
      "id": "19b3aaa5"
    },
    {
      "cell_type": "markdown",
      "source": [
        "**Provide Explanation for above question here :**\n",
        "In-Place operations demonstrated memory saving by adding 5 to the tensor without making a copy whereas Out-of-Place operations demonstrated creation of new tensors using more memory on addition of 5 to the tensor.\n",
        "\n"
      ],
      "metadata": {
        "id": "aXi2TsYVElqy"
      },
      "id": "aXi2TsYVElqy"
    },
    {
      "cell_type": "markdown",
      "metadata": {
        "id": "f57bb1a4"
      },
      "source": [
        "# <font color = 'dodgerred'>**Q6: Tensor Broadcasting (1 Point)**\n",
        "\n",
        "1. Create two tensors `X` with shape `(3, 1)` and `Y` with shape `(1, 3)`. Perform an addition operation on `X` and `Y`.\n",
        "2. Explain how broadcasting is applied in this operation by describing the shape changes that occur internally."
      ],
      "id": "f57bb1a4"
    },
    {
      "cell_type": "code",
      "execution_count": 25,
      "metadata": {
        "id": "699f9bd9",
        "colab": {
          "base_uri": "https://localhost:8080/"
        },
        "outputId": "4f69d82b-d1dc-46dc-e908-18e92d0ae865"
      },
      "outputs": [
        {
          "output_type": "stream",
          "name": "stdout",
          "text": [
            "Original shapes: torch.Size([3, 1]) torch.Size([1, 3])\n",
            "Result: tensor([[25, 26, 27],\n",
            "        [26, 27, 28],\n",
            "        [27, 28, 29]])\n",
            "Result shape: torch.Size([3, 3])\n"
          ]
        }
      ],
      "source": [
        "X = torch.tensor([[11],[12],[13]])\n",
        "Y = torch.tensor([[14,15,16]])\n",
        "print('Original shapes:', X.shape, Y.shape)\n",
        "result = X + Y\n",
        "print('Result:', result)\n",
        "print('Result shape:', result.shape)\n"
      ],
      "id": "699f9bd9"
    },
    {
      "cell_type": "markdown",
      "source": [
        "**Provide Explanation for above question here :**\n",
        "\n",
        "In the above operation, since the tensors X and Y are of different shape, before addition operation, the tensor X with shape (3,1) is broadcasted internally as a tensor with shape (3,3) so as to match the tensor Y with shape (1,3). Then Y is broadcasted to have shape of (3,3) so as to match the shape of X. After broadcasting, the addition operation is done resulting in an ouput tensor with shape (3,3)."
      ],
      "metadata": {
        "id": "IblSVvPhE4-E"
      },
      "id": "IblSVvPhE4-E"
    },
    {
      "cell_type": "markdown",
      "metadata": {
        "id": "e1f2667e"
      },
      "source": [
        "# <font color = 'dodgerred'>**Q7: Linear Algebra Operations (1 Point)**\n",
        "\n",
        "1. Create two matrices `M1` and `M2` of compatible shapes for matrix multiplication. Perform the multiplication and print the result.\n",
        "2. Then, create two vectors `V1` and `V2` and compute their dot product.\n"
      ],
      "id": "e1f2667e"
    },
    {
      "cell_type": "code",
      "execution_count": 26,
      "metadata": {
        "colab": {
          "base_uri": "https://localhost:8080/"
        },
        "id": "d45aed18",
        "outputId": "8b30ae89-bea3-4ecc-c8a1-d4cb3e2f973b"
      },
      "outputs": [
        {
          "output_type": "stream",
          "name": "stdout",
          "text": [
            "tensor([[2, 3, 4],\n",
            "        [5, 6, 7]])\n",
            "tensor([[ 3,  4,  5],\n",
            "        [ 6,  7,  8],\n",
            "        [ 9, 10, 11]])\n",
            "Matrix multiplication result: tensor([[ 60,  69,  78],\n",
            "        [114, 132, 150]])\n",
            "tensor([1, 2, 3, 4])\n",
            "tensor([2, 4, 6, 8])\n",
            "Dot product: tensor(60)\n"
          ]
        }
      ],
      "source": [
        "M1 = torch.arange(2, 8).reshape(2,3)\n",
        "print(M1)\n",
        "M2 = torch.arange(3,12).reshape(3,3)\n",
        "print(M2)\n",
        "mat_multiplication =  torch.mm(M1,M2)\n",
        "print('Matrix multiplication result:', mat_multiplication)\n",
        "\n",
        "V1 = torch.arange(1,5)\n",
        "print(V1)\n",
        "V2 =  torch.arange(2,10,2)\n",
        "dot_product =  torch.dot(V1, V2)\n",
        "print(V2)\n",
        "print('Dot product:', dot_product)\n"
      ],
      "id": "d45aed18"
    },
    {
      "cell_type": "markdown",
      "metadata": {
        "id": "fe24a961"
      },
      "source": [
        "# <font color = 'dodgerred'>**Q8: Manipulating Tensor Shapes (1 Point)**\n",
        "\n",
        "Given a tensor `T` with shape `(2, 3, 4)`, demonstrate how to\n",
        "1. reshape it to `(3, 8)` using view,\n",
        "2. reshape it to `(4, 2, 3` using reshape,\n",
        "3. transpose the first and last dimensions using permute.\n",
        "4. explain what is the difference between reshape and view"
      ],
      "id": "fe24a961"
    },
    {
      "cell_type": "code",
      "execution_count": 27,
      "metadata": {
        "id": "0644b861",
        "colab": {
          "base_uri": "https://localhost:8080/"
        },
        "outputId": "25caf596-793e-4374-c78f-ffb2d914aee3"
      },
      "outputs": [
        {
          "output_type": "stream",
          "name": "stdout",
          "text": [
            "T_view shape: torch.Size([3, 8])\n",
            "T_reshape shape: torch.Size([4, 2, 3])\n",
            "T_permute shape: torch.Size([4, 3, 2])\n"
          ]
        }
      ],
      "source": [
        "T = torch.rand(2, 3, 4)\n",
        "T_view =  T.view(3,8)\n",
        "print('T_view shape:', T_view.shape)\n",
        "\n",
        "T_reshape =  T.reshape(4,2,3)\n",
        "print('T_reshape shape:', T_reshape.shape)\n",
        "\n",
        "T_permute =  T.permute(2,1,0)\n",
        "print('T_permute shape:', T_permute.shape)"
      ],
      "id": "0644b861"
    },
    {
      "cell_type": "markdown",
      "source": [
        "**Provide Explanation for above question here :**\n",
        "Both reshape and view are used to change the shape of the tensor but there are differences between them.\n",
        "* Reshape returns a tensor with new shape having same data as the original tensor. It can either return a view of the original tensor to avoid copying. However, in some cases it might return a copy due to non-contiguous tensors.\n",
        "* View also does the same operation as reshape but it will not create a copy of the original tensor and will only work on contiguous tensor.\n"
      ],
      "metadata": {
        "id": "Lb-861xsFXHN"
      },
      "id": "Lb-861xsFXHN"
    },
    {
      "cell_type": "markdown",
      "metadata": {
        "id": "1d5c7b62"
      },
      "source": [
        "# <font color = 'dodgerred'>**Q9: Tensor Concatenation and Stacking (1 Point)**\n",
        "\n",
        "Create tensors `C1` and `C2` both with shape (2, 3).\n",
        "1. Concatenate them along dimension 0 and then along dimension 1. Print the shape of the resulting tensor.\n",
        "2. Afterwards, stack the same tensors alomng dimension 0  and print the shape of the resulting tensor.\n",
        "3. What is the difference between stacking and concatinating."
      ],
      "id": "1d5c7b62"
    },
    {
      "cell_type": "code",
      "execution_count": 28,
      "metadata": {
        "id": "69e2f7e0",
        "colab": {
          "base_uri": "https://localhost:8080/"
        },
        "outputId": "94cd5d9d-b560-4033-9414-6c2971cbc14f"
      },
      "outputs": [
        {
          "output_type": "stream",
          "name": "stdout",
          "text": [
            "Concatenated along dimension 0: torch.Size([4, 3])\n",
            "Concatenated along dimension 1: torch.Size([2, 6])\n",
            "Stacked tensor shape: torch.Size([2, 2, 3])\n"
          ]
        }
      ],
      "source": [
        "C1 = torch.rand(2, 3)\n",
        "C2 = torch.rand(2, 3)\n",
        "concatenated_dim0 =  torch.cat((C1,C2),dim=0)\n",
        "print('Concatenated along dimension 0:', concatenated_dim0.shape)\n",
        "\n",
        "concatenated_dim1 =  torch.cat((C1,C2),dim=1)\n",
        "print('Concatenated along dimension 1:', concatenated_dim1.shape)\n",
        "\n",
        "stacked =  torch.stack((C1,C2),dim=0)\n",
        "print('Stacked tensor shape:', stacked.shape)\n"
      ],
      "id": "69e2f7e0"
    },
    {
      "cell_type": "markdown",
      "source": [
        "**Explain the diffrence between concatinating and stacking here**\n",
        "The difference between concatenating and stacking is that contatenation combines the input tensors along the given dimension whereas stacking combines the input tensors along the new dimension resulting in an ouput tensor with one more dimension as observed above stacked tensor with new dimension of 2.\n",
        "\n"
      ],
      "metadata": {
        "id": "kmKpP5xBCCgt"
      },
      "id": "kmKpP5xBCCgt"
    },
    {
      "cell_type": "markdown",
      "metadata": {
        "id": "0d0ed971"
      },
      "source": [
        "# <font color = 'dodgerred'>**Q10: Advanced Indexing and Slicing (1 Point)**\n",
        "\n",
        "1. Given a tensor `D` with shape (6, 6), extract elements that are greater than 0.5.\n",
        "2. Then, extract the second and fourth rows from `D`.\n",
        "3. Finally, extract a sub-tensor from the top-left 3x3 block."
      ],
      "id": "0d0ed971"
    },
    {
      "cell_type": "code",
      "execution_count": 29,
      "metadata": {
        "id": "df969523",
        "colab": {
          "base_uri": "https://localhost:8080/"
        },
        "outputId": "4cd03202-6ee7-4195-a2db-91c243841b66"
      },
      "outputs": [
        {
          "output_type": "stream",
          "name": "stdout",
          "text": [
            "Elements greater than 0.5:\n",
            " tensor([0.9738, 0.9139, 0.7799, 0.9268, 0.7047, 0.8066, 0.9056, 0.5459, 0.8501,\n",
            "        0.9548, 0.9823, 0.6224, 0.6462, 0.8188, 0.9459, 0.9025, 0.7817, 0.9561,\n",
            "        0.8808])\n",
            "\n",
            "Second and fourth rows:\n",
            " tensor([[0.3836, 0.9268, 0.0843, 0.7047, 0.8066, 0.9056],\n",
            "        [0.6462, 0.4828, 0.2659, 0.8188, 0.9459, 0.1889]])\n",
            "\n",
            "Top-left 3x3 block:\n",
            "  tensor([[0.9738, 0.0041, 0.0823],\n",
            "        [0.3836, 0.9268, 0.0843],\n",
            "        [0.4133, 0.2602, 0.5459]])\n"
          ]
        }
      ],
      "source": [
        "D = torch.rand(6, 6)\n",
        "print('Elements greater than 0.5:\\n',  D[D>0.5])\n",
        "\n",
        "second_fourth_rows =  D[[1,4],:]\n",
        "print('\\nSecond and fourth rows:\\n', second_fourth_rows)\n",
        "\n",
        "top_left_3x3 =  D[:3,:3]\n",
        "print('\\nTop-left 3x3 block:\\n ', top_left_3x3)\n"
      ],
      "id": "df969523"
    },
    {
      "cell_type": "markdown",
      "metadata": {
        "id": "c081cf3b"
      },
      "source": [
        "# <font color = 'dodgerred'>**Q11: Tensor Mathematical Operations (1 Point)**\n",
        "\n",
        "1. Create a tensor `G` with values from 0 to π in steps of π/4.\n",
        "2. Compute and print the sine, cosine, and tangent logarithm and the exponential of `G`."
      ],
      "id": "c081cf3b"
    },
    {
      "cell_type": "code",
      "execution_count": 30,
      "metadata": {
        "id": "4c22b354",
        "colab": {
          "base_uri": "https://localhost:8080/"
        },
        "outputId": "2bfb4d91-d028-494b-de36-bc92cae49670"
      },
      "outputs": [
        {
          "output_type": "stream",
          "name": "stdout",
          "text": [
            "G: tensor([0.0000, 0.7854, 1.5708, 2.3562, 3.1416])\n",
            "Sine of G: tensor([ 0.0000e+00,  7.0711e-01,  1.0000e+00,  7.0711e-01, -8.7423e-08])\n",
            "Cosine of G: tensor([ 1.0000e+00,  7.0711e-01, -4.3711e-08, -7.0711e-01, -1.0000e+00])\n",
            "Tangent of G: tensor([ 0.0000e+00,  1.0000e+00, -2.2877e+07, -1.0000e+00,  8.7423e-08])\n",
            "Natural logarithm of G: tensor([   -inf, -0.2416,  0.4516,  0.8570,  1.1447])\n",
            "Exponential of G: tensor([ 1.0000,  2.1933,  4.8105, 10.5507, 23.1407])\n"
          ]
        }
      ],
      "source": [
        "import math\n",
        "G = torch.arange(0, math.pi+math.pi/4, math.pi/4)\n",
        "print('G:', G)\n",
        "print('Sine of G:', torch.sin(G))\n",
        "print('Cosine of G:',  torch.cos(G))\n",
        "print('Tangent of G:',  torch.tan(G))\n",
        "print('Natural logarithm of G:',  torch.log(G))\n",
        "print('Exponential of G:',  torch.exp(G))\n"
      ],
      "id": "4c22b354"
    },
    {
      "cell_type": "markdown",
      "metadata": {
        "id": "629eb94b"
      },
      "source": [
        "# <font color = 'dodgerred'>Q12: **Tensor Reduction Operations (1 Point)**\n",
        "\n",
        "1. Create a 3x2 tensor `H`.\n",
        "2. Compute the sum of `H`. Print the result and shape after taking sun.\n",
        "3. Then, perform the same operations along dimension 0 and dimension 1, printing the results and shapes.\n",
        "4. What do you observe? How the shape changes?"
      ],
      "id": "629eb94b"
    },
    {
      "cell_type": "code",
      "execution_count": 31,
      "metadata": {
        "id": "729d7275",
        "colab": {
          "base_uri": "https://localhost:8080/"
        },
        "outputId": "00ebcfdf-7a8a-4ccd-fdb4-266776b54a30"
      },
      "outputs": [
        {
          "output_type": "stream",
          "name": "stdout",
          "text": [
            "H: tensor([[0.0247, 0.3586],\n",
            "        [0.9049, 0.5777],\n",
            "        [0.9424, 0.4194]])\n",
            "\n",
            "Shape of original Tensor H torch.Size([3, 2])\n",
            "\n",
            "Sum of H: tensor(3.2277)\n",
            "Shape after Sum of H: torch.Size([])\n",
            "\n",
            "Sum of H along dimension 0: tensor([1.8720, 1.3557])\n",
            "Shape after sum of H along dimension 0: torch.Size([2])\n",
            "\n",
            "Sum of H along dimension 1: tensor([0.3834, 1.4826, 1.3617])\n",
            "Shape after sum of H along dimension 1: torch.Size([3])\n"
          ]
        }
      ],
      "source": [
        "H = torch.rand(3, 2)\n",
        "print('H:', H, end = \"\\n\\n\")\n",
        "print('Shape of original Tensor H', H.shape, end = \"\\n\\n\")\n",
        "\n",
        "print('Sum of H:',  H.sum())\n",
        "print('Shape after Sum of H:',  H.sum().shape,  end = \"\\n\\n\")\n",
        "\n",
        "print('Sum of H along dimension 0:',  H.sum(axis=0))\n",
        "print('Shape after sum of H along dimension 0:',  H.sum(axis=0).shape,  end = \"\\n\\n\")\n",
        "\n",
        "print('Sum of H along dimension 1:', H.sum(axis=1))\n",
        "print('Shape after sum of H along dimension 1:',  H.sum(axis=1).shape)\n"
      ],
      "id": "729d7275"
    },
    {
      "cell_type": "markdown",
      "source": [
        "**Provide your observations on shape changes here**\n",
        "* Calculating sum of all the elements by default gave a scalar value by reducing the tensor along all its axes.\n",
        "* Calculating sum along axis = 0 i.e. along the rows for a tensor of size (3,2) has resulted in a 1-dimensional tensor of shape (1,2) representing the sum of rows of the tensor.\n",
        "* Calculating the sum along axis = 1 i.e. along the columns of the tensor of sie (3,2) resulted in a 1-dimensional tensor of shape (1,3) representing the sum of columns of the tensor.\n",
        "\n"
      ],
      "metadata": {
        "id": "hfmDz2OLb8M2"
      },
      "id": "hfmDz2OLb8M2"
    },
    {
      "cell_type": "markdown",
      "metadata": {
        "id": "4a156a3a"
      },
      "source": [
        "# <font color = 'dodgerred'>**Q13: Working with Tensor Data Types (1 Point)**\n",
        "\n",
        "1. Create a tensor `I` of data type float with values `[1.0, 2.0, 3.0]`.\n",
        "2. Convert `I` to data type int and print the result.\n",
        "3. Explain in which scenarios it's necessary to be cautious about the data type of tensors."
      ],
      "id": "4a156a3a"
    },
    {
      "cell_type": "code",
      "execution_count": 32,
      "metadata": {
        "colab": {
          "base_uri": "https://localhost:8080/"
        },
        "id": "af427555",
        "outputId": "8e0976bf-eef9-4a08-99fa-99972d17b977"
      },
      "outputs": [
        {
          "output_type": "stream",
          "name": "stdout",
          "text": [
            "I: tensor([1., 2., 3.])\n",
            "I converted to int: tensor([1, 2, 3], dtype=torch.int32)\n"
          ]
        }
      ],
      "source": [
        "# Solution for Q16\n",
        "I =  torch.tensor([1.0,2.0,3.0], dtype = torch.float)\n",
        "print('I:', I)\n",
        "I_int =  I.type(dtype=torch.int32)\n",
        "print('I converted to int:', I_int)"
      ],
      "id": "af427555"
    },
    {
      "cell_type": "markdown",
      "source": [
        "**Your explanations here**\n",
        "* During intialization of tensors to ensure that the tensors created are of specific data type.\n",
        "* While performing operations, it is important to be cautious about the data types to ensure precision in computing for more accurate results.\n"
      ],
      "metadata": {
        "id": "9yyx5WtweGNP"
      },
      "id": "9yyx5WtweGNP"
    },
    {
      "cell_type": "markdown",
      "metadata": {
        "id": "2TU6l0nC3EfW"
      },
      "source": [
        "# <font color = 'dodgerred'>**Q14. Speedtest for vectorization 1.5 Points** </font>\n",
        "\n",
        "Your goal is to measure the speed of linear algebra operations for different levels of vectorization.\n",
        "\n",
        "1. Construct two matrices $A$ and $B$ with Gaussian random entries of size $1024 \\times 1024$.\n",
        "1. Compute $C = A B$ using matrix-matrix operations and report the time. (Hint: Use torch.mm)\n",
        "1. Compute $C = A B$, treating $A$ as a matrix but computing the result for each column of $B$ one at a time. Report the time. (hint use torch.mv inside a for loop)\n",
        "1. Compute $C = A B$, treating $A$ and $B$ as collections of vectors. Report the time. (Hint: use torch.dot inside nested for loop)"
      ],
      "id": "2TU6l0nC3EfW"
    },
    {
      "cell_type": "code",
      "execution_count": 33,
      "metadata": {
        "id": "wkKjtX0HH2wz"
      },
      "outputs": [],
      "source": [
        "## Solution 1\n",
        "torch.manual_seed(42) # dod not chnage this\n",
        "A = torch.randn(1024,1024)\n",
        "B = torch.randn(1024,1024)"
      ],
      "id": "wkKjtX0HH2wz"
    },
    {
      "cell_type": "code",
      "source": [
        "A.device"
      ],
      "metadata": {
        "colab": {
          "base_uri": "https://localhost:8080/"
        },
        "id": "A99ZEGaXWDUR",
        "outputId": "683608b7-afbb-476d-93aa-05a7670b978f"
      },
      "id": "A99ZEGaXWDUR",
      "execution_count": 34,
      "outputs": [
        {
          "output_type": "execute_result",
          "data": {
            "text/plain": [
              "device(type='cpu')"
            ]
          },
          "metadata": {},
          "execution_count": 34
        }
      ]
    },
    {
      "cell_type": "code",
      "execution_count": 35,
      "metadata": {
        "id": "kSMH_j5OD2ZB",
        "colab": {
          "base_uri": "https://localhost:8080/"
        },
        "outputId": "de51439a-9b96-436a-ba7d-e81e757b87be"
      },
      "outputs": [
        {
          "output_type": "stream",
          "name": "stdout",
          "text": [
            "Matrix by matrix: 0.038729190826416016 seconds\n"
          ]
        }
      ],
      "source": [
        "## Solution 2\n",
        "start=time.time()\n",
        "\n",
        "C = torch.mm(A, B)\n",
        "\n",
        "print(\"Matrix by matrix: \" + str(time.time()-start) + \" seconds\")"
      ],
      "id": "kSMH_j5OD2ZB"
    },
    {
      "cell_type": "code",
      "execution_count": 36,
      "metadata": {
        "id": "-tU8yGBP-Crk",
        "colab": {
          "base_uri": "https://localhost:8080/"
        },
        "outputId": "436badf9-b007-4fa4-e859-645c6676da86"
      },
      "outputs": [
        {
          "output_type": "stream",
          "name": "stdout",
          "text": [
            "Matrix by vector: 1.9541082382202148 seconds\n"
          ]
        }
      ],
      "source": [
        "## Solution 3\n",
        "C= torch.empty(1024,1024)\n",
        "start = time.time()\n",
        "\n",
        "for i in range(B.shape[1]):\n",
        "  C[:,i] = torch.mv(A, B[:,i])\n",
        "\n",
        "print(\"Matrix by vector: \" + str(time.time()-start) + \" seconds\")"
      ],
      "id": "-tU8yGBP-Crk"
    },
    {
      "cell_type": "code",
      "execution_count": 37,
      "metadata": {
        "id": "MFgJCFf6DUFK",
        "colab": {
          "base_uri": "https://localhost:8080/"
        },
        "outputId": "cb955938-48c0-4d86-bbbb-530882bb9838"
      },
      "outputs": [
        {
          "output_type": "stream",
          "name": "stdout",
          "text": [
            "vector by vector: 28.88134741783142 seconds\n"
          ]
        }
      ],
      "source": [
        "## Solution 4\n",
        "C= torch.empty(1024,1024)\n",
        "start = time.time()\n",
        "\n",
        "for i in range(A.shape[0]):\n",
        "  for j in range(B.shape[1]):\n",
        "    C[i,j] = torch.dot(A[i,:],B[:,j])\n",
        "\n",
        "print(\"vector by vector: \" + str(time.time()-start) + \" seconds\")"
      ],
      "id": "MFgJCFf6DUFK"
    },
    {
      "cell_type": "markdown",
      "metadata": {
        "id": "TtYsJM4mJNdE"
      },
      "source": [
        "# <font color = 'dodgerred'>**Q15 : Redo Question 14 by using GPU - 1.5 Points**"
      ],
      "id": "TtYsJM4mJNdE"
    },
    {
      "cell_type": "markdown",
      "metadata": {
        "id": "fxJ1UlTf3Efb"
      },
      "source": [
        "<font size = 4, color = 'dodgerred'> **Using GPUs**\n",
        "\n",
        "How to use GPUs in Google Colab<br>\n",
        "In Google Colab -- Go to Runtime Tab at top -- select change runtime type -- for hardware accelartor choose GPU"
      ],
      "id": "fxJ1UlTf3Efb"
    },
    {
      "cell_type": "code",
      "execution_count": 38,
      "metadata": {
        "id": "_6ilpofMIe1e",
        "colab": {
          "base_uri": "https://localhost:8080/"
        },
        "outputId": "d39c306c-d9ab-46be-e8b6-2c3a1237d084"
      },
      "outputs": [
        {
          "output_type": "stream",
          "name": "stdout",
          "text": [
            "cuda:0\n"
          ]
        }
      ],
      "source": [
        "# Check if GPU is availaible\n",
        "device = torch.device('cuda:0' if torch.cuda.is_available() else 'cpu')\n",
        "print(device)"
      ],
      "id": "_6ilpofMIe1e"
    },
    {
      "cell_type": "code",
      "execution_count": 39,
      "metadata": {
        "id": "4XMhjifbJcu0"
      },
      "outputs": [],
      "source": [
        "## Solution 1\n",
        "torch.manual_seed(42)\n",
        "A= torch.randn((1024, 1024),device=device)\n",
        "B= torch.randn((1024, 1024),device=device)"
      ],
      "id": "4XMhjifbJcu0"
    },
    {
      "cell_type": "code",
      "execution_count": 40,
      "metadata": {
        "id": "pn-ZKI7sK9Oh",
        "colab": {
          "base_uri": "https://localhost:8080/"
        },
        "outputId": "3eafed44-fc62-4f50-813d-c4511040c4d0"
      },
      "outputs": [
        {
          "output_type": "stream",
          "name": "stdout",
          "text": [
            "Matrix by matrix: 0.10108137130737305 seconds\n"
          ]
        }
      ],
      "source": [
        "## Solution 2\n",
        "start=time.time()\n",
        "\n",
        "C = torch.mm(A, B)\n",
        "\n",
        "print(\"Matrix by matrix: \" + str(time.time()-start) + \" seconds\")"
      ],
      "id": "pn-ZKI7sK9Oh"
    },
    {
      "cell_type": "code",
      "execution_count": 41,
      "metadata": {
        "id": "GcHPGEitLL8i",
        "colab": {
          "base_uri": "https://localhost:8080/"
        },
        "outputId": "5ad70ad7-7eb6-4143-e7ac-e566f1953c66"
      },
      "outputs": [
        {
          "output_type": "stream",
          "name": "stdout",
          "text": [
            "Matrix by vector: 0.09204864501953125 seconds\n"
          ]
        }
      ],
      "source": [
        "## Solution 3\n",
        "C= torch.empty(1024,1024, device = device)\n",
        "start = time.time()\n",
        "\n",
        "for i in range(B.shape[1]):\n",
        "  C[:,i] = torch.mv(A, B[:,i])\n",
        "\n",
        "print(\"Matrix by vector: \" + str(time.time()-start) + \" seconds\")"
      ],
      "id": "GcHPGEitLL8i"
    },
    {
      "cell_type": "code",
      "execution_count": 42,
      "metadata": {
        "id": "wZ5LWSa2Lrdw",
        "colab": {
          "base_uri": "https://localhost:8080/"
        },
        "outputId": "3d2df3ec-8e4d-4ddf-f706-643dd69e245a"
      },
      "outputs": [
        {
          "output_type": "stream",
          "name": "stdout",
          "text": [
            "vector by vector: 44.3972487449646 seconds\n"
          ]
        }
      ],
      "source": [
        "## Solution 4\n",
        "C= torch.empty(1024,1024, device = device)\n",
        "start = time.time()\n",
        "\n",
        "for i in range(A.shape[0]):\n",
        "  for j in range(B.shape[1]):\n",
        "    C[i,j] = torch.dot(A[i,:],B[:,j])\n",
        "\n",
        "print(\"vector by vector: \" + str(time.time()-start) + \" seconds\")"
      ],
      "id": "wZ5LWSa2Lrdw"
    },
    {
      "cell_type": "code",
      "source": [],
      "metadata": {
        "id": "g7bJyYamVtS6"
      },
      "id": "g7bJyYamVtS6",
      "execution_count": null,
      "outputs": []
    }
  ],
  "metadata": {
    "accelerator": "GPU",
    "colab": {
      "provenance": [],
      "gpuType": "V100",
      "toc_visible": true,
      "include_colab_link": true
    },
    "kernelspec": {
      "display_name": "Python 3",
      "name": "python3"
    },
    "language_info": {
      "codemirror_mode": {
        "name": "ipython",
        "version": 3
      },
      "file_extension": ".py",
      "mimetype": "text/x-python",
      "name": "python",
      "nbconvert_exporter": "python",
      "pygments_lexer": "ipython3",
      "version": "3.9.13"
    }
  },
  "nbformat": 4,
  "nbformat_minor": 5
}